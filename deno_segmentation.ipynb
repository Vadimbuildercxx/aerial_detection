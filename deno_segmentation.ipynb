{
 "cells": [
  {
   "cell_type": "code",
   "execution_count": 2,
   "metadata": {},
   "outputs": [
    {
     "name": "stdout",
     "output_type": "stream",
     "text": [
      "SwinTransformerSys expand initial----depths:[2, 2, 6, 2];depths_decoder:[1, 2, 2, 2];drop_path_rate:0.1;num_classes:9\n",
      "---final upsample expand_first---\n",
      "pretrained_path:weights/segmentation/swin_tiny_patch4_window7_224.pth\n",
      "---start load pretrained modle of swin encoder---\n"
     ]
    },
    {
     "name": "stderr",
     "output_type": "stream",
     "text": [
      "/home/vadim/source/aerial_detection/swin_unet/networks/vision_transformer.py:64: FutureWarning: You are using `torch.load` with `weights_only=False` (the current default value), which uses the default pickle module implicitly. It is possible to construct malicious pickle data which will execute arbitrary code during unpickling (See https://github.com/pytorch/pytorch/blob/main/SECURITY.md#untrusted-models for more details). In a future release, the default value for `weights_only` will be flipped to `True`. This limits the functions that could be executed during unpickling. Arbitrary objects will no longer be allowed to be loaded via this mode unless they are explicitly allowlisted by the user via `torch.serialization.add_safe_globals`. We recommend you start setting `weights_only=True` for any use case where you don't have full control of the loaded file. Please open an issue on GitHub for any issues related to this experimental feature.\n",
      "  pretrained_dict = torch.load(pretrained_path, map_location=device)\n"
     ]
    }
   ],
   "source": [
    "from swin_unet.config import get_config\n",
    "from swin_unet.networks.vision_transformer import SwinUnet as ViT_seg\n",
    "\n",
    "img_size = 224\n",
    "num_classes = 9\n",
    "\n",
    "class ModelConfig:\n",
    "    class DATA:\n",
    "        IMG_SIZE=224,\n",
    "    \n",
    "    class MODEL:\n",
    "        class SWIN:\n",
    "            PATCH_SIZE = 4\n",
    "            IN_CHANS = 3\n",
    "            EMBED_DIM = 96\n",
    "            DEPTHS = [2, 2, 6, 2]\n",
    "            NUM_HEADS = [3, 6, 12, 24]\n",
    "            WINDOW_SIZE = 7\n",
    "            MLP_RATIO = 4.\n",
    "            QKV_BIAS = True\n",
    "            QK_SCALE = None\n",
    "            APE = False\n",
    "            PATCH_NORM = True\n",
    "        DROP_RATE =  0.0,\n",
    "        DROP_PATH_RATE =  0.1\n",
    "        PRETRAIN_CKPT = 'weights/segmentation/swin_tiny_patch4_window7_224.pth'\n",
    "    \n",
    "    class TRAIN:\n",
    "        USE_CHECKPOINT = False\n",
    "\n",
    "config = ModelConfig()\n",
    "\n",
    "net = ViT_seg(config, img_size=img_size, num_classes=num_classes).cuda()\n",
    "net.load_from(config)"
   ]
  },
  {
   "cell_type": "code",
   "execution_count": 40,
   "metadata": {},
   "outputs": [
    {
     "name": "stdout",
     "output_type": "stream",
     "text": [
      "torch.Size([224, 224, 3])\n"
     ]
    },
    {
     "data": {
      "text/plain": [
       "torch.Size([1, 3, 224, 224])"
      ]
     },
     "execution_count": 40,
     "metadata": {},
     "output_type": "execute_result"
    }
   ],
   "source": [
    "# Imports PIL module\n",
    "from PIL import Image\n",
    "import torchvision\n",
    "import torch\n",
    "\n",
    "# open method used to open different extension image file\n",
    "transform_norm = torchvision.transforms.Compose([\n",
    "    torchvision.transforms.ToTensor(),\n",
    "    torchvision.transforms.Normalize(\n",
    "        mean=[0.485, 0.456, 0.406],\n",
    "        std=[0.229, 0.224, 0.225]\n",
    "        ),\n",
    "    torchvision.transforms.Resize((224,224))\n",
    "])\n",
    "\n",
    "im = transform_norm(Image.open(r\"1.png\").convert('RGB'))\n",
    "print(im.T.shape)\n",
    "x = im.unsqueeze(0)\n",
    "\n",
    "x.shape\n",
    "# This method will show image in any image viewer"
   ]
  },
  {
   "cell_type": "code",
   "execution_count": 44,
   "metadata": {},
   "outputs": [
    {
     "data": {
      "text/plain": [
       "tensor([[[[6, 1, 3,  ..., 4, 3, 5],\n",
       "          [2, 1, 7,  ..., 1, 7, 3],\n",
       "          [5, 1, 3,  ..., 1, 0, 1],\n",
       "          ...,\n",
       "          [4, 3, 7,  ..., 1, 6, 3],\n",
       "          [5, 1, 3,  ..., 1, 1, 1],\n",
       "          [1, 3, 6,  ..., 2, 6, 4]]]], device='cuda:0')"
      ]
     },
     "execution_count": 44,
     "metadata": {},
     "output_type": "execute_result"
    }
   ],
   "source": [
    "outputs = net(x.cuda())\n",
    "outputs = torch.argmax(torch.softmax(outputs, dim=1), dim=1, keepdim=True)\n",
    "outputs"
   ]
  },
  {
   "cell_type": "code",
   "execution_count": 46,
   "metadata": {},
   "outputs": [
    {
     "data": {
      "text/plain": [
       "torch.Size([1, 1, 224, 224])"
      ]
     },
     "execution_count": 46,
     "metadata": {},
     "output_type": "execute_result"
    }
   ],
   "source": [
    "outputs.shape"
   ]
  }
 ],
 "metadata": {
  "kernelspec": {
   "display_name": "aerial_detection",
   "language": "python",
   "name": "python3"
  },
  "language_info": {
   "codemirror_mode": {
    "name": "ipython",
    "version": 3
   },
   "file_extension": ".py",
   "mimetype": "text/x-python",
   "name": "python",
   "nbconvert_exporter": "python",
   "pygments_lexer": "ipython3",
   "version": "3.11.11"
  }
 },
 "nbformat": 4,
 "nbformat_minor": 2
}
